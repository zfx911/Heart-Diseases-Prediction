{
 "cells": [
  {
   "cell_type": "code",
   "execution_count": 1,
   "id": "02709380",
   "metadata": {},
   "outputs": [],
   "source": [
    "import random\n",
    "import numpy as np\n",
    "import pandas as pd\n",
    "from sklearn.linear_model import LinearRegression\n",
    "from sklearn.model_selection import train_test_split, cross_val_score\n",
    "from sklearn.metrics import mean_squared_error\n",
    "from seaborn.palettes import color_palette\n",
    "from sklearn.datasets import load_breast_cancer\n",
    "import matplotlib.pyplot as plt\n",
    "import seaborn as sns\n",
    "import copy\n",
    "from sklearn.preprocessing import LabelEncoder\n",
    "from sklearn.preprocessing import StandardScaler\n",
    "\n",
    "from sklearn.metrics import accuracy_score\n",
    "from sklearn.linear_model import LogisticRegression\n",
    "from sklearn.neighbors import KNeighborsClassifier\n",
    "from sklearn.tree import DecisionTreeClassifier\n",
    "from sklearn.svm import SVC\n",
    "from sklearn.naive_bayes import GaussianNB\n",
    "from sklearn.ensemble import RandomForestClassifier, BaggingClassifier, GradientBoostingClassifier\n",
    "from xgboost import XGBClassifier\n",
    "from sklearn.model_selection import cross_val_score, RepeatedKFold\n",
    "\n",
    "from sklearn.model_selection import GridSearchCV\n",
    "from sklearn.model_selection import RandomizedSearchCV\n",
    "from sklearn.ensemble import StackingClassifier\n",
    "\n",
    "from sklearn.metrics import classification_report\n",
    "from sklearn.metrics import ConfusionMatrixDisplay, confusion_matrix\n",
    "\n",
    "import warnings\n",
    "warnings.filterwarnings(\"ignore\")"
   ]
  },
  {
   "cell_type": "code",
   "execution_count": 4,
   "id": "8e1ecf5e",
   "metadata": {},
   "outputs": [],
   "source": [
    "df=pd.read_csv(\"heart_disease_2015.csv\")"
   ]
  },
  {
   "cell_type": "code",
   "execution_count": 5,
   "id": "ac33c1bc",
   "metadata": {},
   "outputs": [
    {
     "data": {
      "text/plain": [
       "HeartDiseaseorAttack\n",
       "0.0    229787\n",
       "1.0     23893\n",
       "Name: count, dtype: int64"
      ]
     },
     "execution_count": 5,
     "metadata": {},
     "output_type": "execute_result"
    }
   ],
   "source": [
    "df['HeartDiseaseorAttack'].value_counts()"
   ]
  },
  {
   "cell_type": "code",
   "execution_count": 6,
   "id": "ed061f2d",
   "metadata": {},
   "outputs": [],
   "source": [
    "df[\"HeartDiseaseorAttack\"] = df[\"HeartDiseaseorAttack\"].astype('object')"
   ]
  },
  {
   "cell_type": "markdown",
   "id": "a5d48329",
   "metadata": {},
   "source": [
    "## Undersampling"
   ]
  },
  {
   "cell_type": "markdown",
   "id": "161a55dd",
   "metadata": {},
   "source": [
    "Divide the datasets based on target variable"
   ]
  },
  {
   "cell_type": "code",
   "execution_count": 7,
   "id": "8e4ea722",
   "metadata": {},
   "outputs": [],
   "source": [
    "negative_df = df[df['HeartDiseaseorAttack'] == 0.0]\n",
    "positive_df = df[df['HeartDiseaseorAttack'] == 1.0]"
   ]
  },
  {
   "cell_type": "markdown",
   "id": "a82035f0",
   "metadata": {},
   "source": [
    "Undersample the majority class (negative)"
   ]
  },
  {
   "cell_type": "code",
   "execution_count": 8,
   "id": "f1c0fbee",
   "metadata": {},
   "outputs": [],
   "source": [
    "negative_df_undersampled = negative_df.sample(len(positive_df), random_state=8649)"
   ]
  },
  {
   "cell_type": "markdown",
   "id": "51e413c2",
   "metadata": {},
   "source": [
    "Concatenate new datasets and shuffle"
   ]
  },
  {
   "cell_type": "code",
   "execution_count": 9,
   "id": "df4f19fd",
   "metadata": {},
   "outputs": [],
   "source": [
    "balanced_df = pd.concat([negative_df_undersampled, positive_df])"
   ]
  },
  {
   "cell_type": "code",
   "execution_count": 10,
   "id": "1523299a",
   "metadata": {},
   "outputs": [],
   "source": [
    "balanced_df = balanced_df.sample(frac=1, random_state=8649).reset_index(drop=True)"
   ]
  },
  {
   "cell_type": "code",
   "execution_count": 11,
   "id": "29d4ad2c",
   "metadata": {},
   "outputs": [
    {
     "data": {
      "text/plain": [
       "HeartDiseaseorAttack\n",
       "1.0    23893\n",
       "0.0    23893\n",
       "Name: count, dtype: int64"
      ]
     },
     "execution_count": 11,
     "metadata": {},
     "output_type": "execute_result"
    }
   ],
   "source": [
    "balanced_df['HeartDiseaseorAttack'].value_counts()"
   ]
  },
  {
   "cell_type": "markdown",
   "id": "47e11040",
   "metadata": {},
   "source": [
    "Train-test splitting and standardization"
   ]
  },
  {
   "cell_type": "code",
   "execution_count": 17,
   "id": "b92b6ee2",
   "metadata": {},
   "outputs": [],
   "source": [
    "x= balanced_df.loc[:,balanced_df.columns != \"HeartDiseaseorAttack\"]\n",
    "le = LabelEncoder()\n",
    "y= le.fit_transform(balanced_df['HeartDiseaseorAttack'])\n",
    "X_train, X_test, y_train, y_test = train_test_split(x,y, test_size=0.2, random_state=8649)\n",
    "scaler = StandardScaler()\n",
    "X_train = scaler.fit_transform(X_train)\n",
    "X_test = scaler.transform(X_test)"
   ]
  },
  {
   "cell_type": "code",
   "execution_count": 18,
   "id": "214b7d09",
   "metadata": {},
   "outputs": [
    {
     "data": {
      "text/plain": [
       "(38228, 21)"
      ]
     },
     "execution_count": 18,
     "metadata": {},
     "output_type": "execute_result"
    }
   ],
   "source": [
    "X_train.shape"
   ]
  },
  {
   "cell_type": "code",
   "execution_count": 19,
   "id": "eb1a43a6",
   "metadata": {},
   "outputs": [
    {
     "data": {
      "text/plain": [
       "(9558, 21)"
      ]
     },
     "execution_count": 19,
     "metadata": {},
     "output_type": "execute_result"
    }
   ],
   "source": [
    "X_test.shape"
   ]
  },
  {
   "cell_type": "markdown",
   "id": "3d44d10a",
   "metadata": {},
   "source": [
    "## Modeling"
   ]
  },
  {
   "cell_type": "markdown",
   "id": "25967409",
   "metadata": {},
   "source": [
    "Model training with hyperparameter tuning"
   ]
  },
  {
   "cell_type": "code",
   "execution_count": 21,
   "id": "67943aad",
   "metadata": {},
   "outputs": [],
   "source": [
    "# Define the classifiers and parameter space\n",
    "classifiers = [\n",
    "    ('Logistic Regression',LogisticRegression(),{\n",
    "        # 'penalty': ['l1', 'l2'],\n",
    "        'C': [0.1,0.5,1,3],\n",
    "        'solver': ['newton-cg', 'lbfgs', 'liblinear', 'sag', 'saga'],\n",
    "        'max_iter': [100, 200, 500]\n",
    "    }),\n",
    "    ('RandomForest', RandomForestClassifier(), {\n",
    "        'n_estimators': [50, 100, 200],\n",
    "        'max_depth': [None, 20, 40],\n",
    "    }),\n",
    "    ('GradientBoosting', GradientBoostingClassifier(), {\n",
    "        'n_estimators': [50, 100, 200],\n",
    "        'learning_rate': [0.05, 0.1, 0.2, 0.5],\n",
    "        'max_depth': [2, 3, 5, 8]\n",
    "    }),\n",
    "    ('XGBoost', XGBClassifier(), {\n",
    "        'n_estimators': [50, 100, 200],\n",
    "        'learning_rate': [0.05, 0.1, 0.2],\n",
    "        'max_depth': [4, 6, 8],\n",
    "    }),\n",
    "]"
   ]
  },
  {
   "cell_type": "code",
   "execution_count": 22,
   "id": "2ca8f371",
   "metadata": {},
   "outputs": [
    {
     "name": "stdout",
     "output_type": "stream",
     "text": [
      "--------------------\n",
      "Logistic Regression\n",
      "LogisticRegression()\n",
      "{'C': [0.1, 0.5, 1, 3], 'solver': ['newton-cg', 'lbfgs', 'liblinear', 'sag', 'saga'], 'max_iter': [100, 200, 500]}\n",
      "--------------------\n",
      "RandomForest\n",
      "RandomForestClassifier()\n",
      "{'n_estimators': [50, 100, 200], 'max_depth': [None, 20, 40]}\n",
      "--------------------\n",
      "GradientBoosting\n",
      "GradientBoostingClassifier()\n",
      "{'n_estimators': [50, 100, 200], 'learning_rate': [0.05, 0.1, 0.2, 0.5], 'max_depth': [2, 3, 5, 8]}\n",
      "--------------------\n",
      "XGBoost\n",
      "XGBClassifier(base_score=None, booster=None, callbacks=None,\n",
      "              colsample_bylevel=None, colsample_bynode=None,\n",
      "              colsample_bytree=None, device=None, early_stopping_rounds=None,\n",
      "              enable_categorical=False, eval_metric=None, feature_types=None,\n",
      "              gamma=None, grow_policy=None, importance_type=None,\n",
      "              interaction_constraints=None, learning_rate=None, max_bin=None,\n",
      "              max_cat_threshold=None, max_cat_to_onehot=None,\n",
      "              max_delta_step=None, max_depth=None, max_leaves=None,\n",
      "              min_child_weight=None, missing=nan, monotone_constraints=None,\n",
      "              multi_strategy=None, n_estimators=None, n_jobs=None,\n",
      "              num_parallel_tree=None, random_state=None, ...)\n",
      "{'n_estimators': [50, 100, 200], 'learning_rate': [0.05, 0.1, 0.2], 'max_depth': [4, 6, 8]}\n",
      "--------------------\n"
     ]
    }
   ],
   "source": [
    "print('-'*20)\n",
    "for name, clf, param_dist in classifiers:\n",
    "    print(name)\n",
    "    print(clf)\n",
    "    print(param_dist)\n",
    "    print('-'*20)"
   ]
  },
  {
   "cell_type": "code",
   "execution_count": 24,
   "id": "f5f62b57",
   "metadata": {},
   "outputs": [
    {
     "name": "stdout",
     "output_type": "stream",
     "text": [
      "Fitting 9 folds for each of 60 candidates, totalling 540 fits\n",
      "Fitting 9 folds for each of 9 candidates, totalling 81 fits\n",
      "Fitting 9 folds for each of 48 candidates, totalling 432 fits\n",
      "Fitting 9 folds for each of 27 candidates, totalling 243 fits\n"
     ]
    }
   ],
   "source": [
    "# Store the best models and their accuracy scores\n",
    "best_models = {}\n",
    "best_accuracies = []\n",
    "\n",
    "# Perform GridSearchCV for each classifier\n",
    "for name, clf, param_dist in classifiers:\n",
    "    grid_search =GridSearchCV(clf, param_grid=param_dist, cv=9, n_jobs=-1, verbose=2)\n",
    "    grid_search.fit(X_train, y_train)\n",
    "    best_model = grid_search.best_estimator_\n",
    "    best_models[name] = best_model\n",
    "    y_pred = best_model.predict(X_test)\n",
    "    accuracy = accuracy_score(y_test, y_pred)\n",
    "    best_accuracies.append((name, accuracy))"
   ]
  },
  {
   "cell_type": "code",
   "execution_count": 25,
   "id": "ac9af16a",
   "metadata": {},
   "outputs": [
    {
     "data": {
      "text/plain": [
       "{'Logistic Regression': LogisticRegression(C=0.1, solver='liblinear'),\n",
       " 'RandomForest': RandomForestClassifier(max_depth=20, n_estimators=200),\n",
       " 'GradientBoosting': GradientBoostingClassifier(n_estimators=200),\n",
       " 'XGBoost': XGBClassifier(base_score=None, booster=None, callbacks=None,\n",
       "               colsample_bylevel=None, colsample_bynode=None,\n",
       "               colsample_bytree=None, device=None, early_stopping_rounds=None,\n",
       "               enable_categorical=False, eval_metric=None, feature_types=None,\n",
       "               gamma=None, grow_policy=None, importance_type=None,\n",
       "               interaction_constraints=None, learning_rate=0.1, max_bin=None,\n",
       "               max_cat_threshold=None, max_cat_to_onehot=None,\n",
       "               max_delta_step=None, max_depth=4, max_leaves=None,\n",
       "               min_child_weight=None, missing=nan, monotone_constraints=None,\n",
       "               multi_strategy=None, n_estimators=100, n_jobs=None,\n",
       "               num_parallel_tree=None, random_state=None, ...)}"
      ]
     },
     "execution_count": 25,
     "metadata": {},
     "output_type": "execute_result"
    }
   ],
   "source": [
    "best_models"
   ]
  },
  {
   "cell_type": "code",
   "execution_count": 26,
   "id": "74c168b3",
   "metadata": {},
   "outputs": [
    {
     "data": {
      "text/plain": [
       "[('Logistic Regression', 0.7718141870684243),\n",
       " ('RandomForest', 0.7639673571876961),\n",
       " ('GradientBoosting', 0.7710818162795564),\n",
       " ('XGBoost', 0.7747436702238962)]"
      ]
     },
     "execution_count": 26,
     "metadata": {},
     "output_type": "execute_result"
    }
   ],
   "source": [
    "best_accuracies"
   ]
  },
  {
   "cell_type": "code",
   "execution_count": 28,
   "id": "be84e29b",
   "metadata": {},
   "outputs": [],
   "source": [
    "y_pred = best_models['XGBoost'].predict(X_test)"
   ]
  },
  {
   "cell_type": "code",
   "execution_count": 30,
   "id": "ab4fae3c",
   "metadata": {},
   "outputs": [
    {
     "name": "stdout",
     "output_type": "stream",
     "text": [
      "              precision    recall  f1-score   support\n",
      "\n",
      "           0       0.81      0.73      0.77      4840\n",
      "           1       0.75      0.82      0.78      4718\n",
      "\n",
      "    accuracy                           0.77      9558\n",
      "   macro avg       0.78      0.78      0.77      9558\n",
      "weighted avg       0.78      0.77      0.77      9558\n",
      "\n"
     ]
    }
   ],
   "source": [
    "# create a dataframe to store the value for both actual values and predictions.\n",
    "predictions = pd.DataFrame(y_pred, columns=['predictions'])\n",
    "predictions['actual'] = y_test\n",
    "\n",
    "# show the classification report\n",
    "print(classification_report(predictions['actual'], predictions['predictions']))"
   ]
  },
  {
   "cell_type": "markdown",
   "id": "ff99a946",
   "metadata": {},
   "source": [
    "Stacked model"
   ]
  },
  {
   "cell_type": "code",
   "execution_count": 31,
   "id": "99fab367",
   "metadata": {},
   "outputs": [
    {
     "data": {
      "text/html": [
       "<style>#sk-container-id-2 {color: black;background-color: white;}#sk-container-id-2 pre{padding: 0;}#sk-container-id-2 div.sk-toggleable {background-color: white;}#sk-container-id-2 label.sk-toggleable__label {cursor: pointer;display: block;width: 100%;margin-bottom: 0;padding: 0.3em;box-sizing: border-box;text-align: center;}#sk-container-id-2 label.sk-toggleable__label-arrow:before {content: \"▸\";float: left;margin-right: 0.25em;color: #696969;}#sk-container-id-2 label.sk-toggleable__label-arrow:hover:before {color: black;}#sk-container-id-2 div.sk-estimator:hover label.sk-toggleable__label-arrow:before {color: black;}#sk-container-id-2 div.sk-toggleable__content {max-height: 0;max-width: 0;overflow: hidden;text-align: left;background-color: #f0f8ff;}#sk-container-id-2 div.sk-toggleable__content pre {margin: 0.2em;color: black;border-radius: 0.25em;background-color: #f0f8ff;}#sk-container-id-2 input.sk-toggleable__control:checked~div.sk-toggleable__content {max-height: 200px;max-width: 100%;overflow: auto;}#sk-container-id-2 input.sk-toggleable__control:checked~label.sk-toggleable__label-arrow:before {content: \"▾\";}#sk-container-id-2 div.sk-estimator input.sk-toggleable__control:checked~label.sk-toggleable__label {background-color: #d4ebff;}#sk-container-id-2 div.sk-label input.sk-toggleable__control:checked~label.sk-toggleable__label {background-color: #d4ebff;}#sk-container-id-2 input.sk-hidden--visually {border: 0;clip: rect(1px 1px 1px 1px);clip: rect(1px, 1px, 1px, 1px);height: 1px;margin: -1px;overflow: hidden;padding: 0;position: absolute;width: 1px;}#sk-container-id-2 div.sk-estimator {font-family: monospace;background-color: #f0f8ff;border: 1px dotted black;border-radius: 0.25em;box-sizing: border-box;margin-bottom: 0.5em;}#sk-container-id-2 div.sk-estimator:hover {background-color: #d4ebff;}#sk-container-id-2 div.sk-parallel-item::after {content: \"\";width: 100%;border-bottom: 1px solid gray;flex-grow: 1;}#sk-container-id-2 div.sk-label:hover label.sk-toggleable__label {background-color: #d4ebff;}#sk-container-id-2 div.sk-serial::before {content: \"\";position: absolute;border-left: 1px solid gray;box-sizing: border-box;top: 0;bottom: 0;left: 50%;z-index: 0;}#sk-container-id-2 div.sk-serial {display: flex;flex-direction: column;align-items: center;background-color: white;padding-right: 0.2em;padding-left: 0.2em;position: relative;}#sk-container-id-2 div.sk-item {position: relative;z-index: 1;}#sk-container-id-2 div.sk-parallel {display: flex;align-items: stretch;justify-content: center;background-color: white;position: relative;}#sk-container-id-2 div.sk-item::before, #sk-container-id-2 div.sk-parallel-item::before {content: \"\";position: absolute;border-left: 1px solid gray;box-sizing: border-box;top: 0;bottom: 0;left: 50%;z-index: -1;}#sk-container-id-2 div.sk-parallel-item {display: flex;flex-direction: column;z-index: 1;position: relative;background-color: white;}#sk-container-id-2 div.sk-parallel-item:first-child::after {align-self: flex-end;width: 50%;}#sk-container-id-2 div.sk-parallel-item:last-child::after {align-self: flex-start;width: 50%;}#sk-container-id-2 div.sk-parallel-item:only-child::after {width: 0;}#sk-container-id-2 div.sk-dashed-wrapped {border: 1px dashed gray;margin: 0 0.4em 0.5em 0.4em;box-sizing: border-box;padding-bottom: 0.4em;background-color: white;}#sk-container-id-2 div.sk-label label {font-family: monospace;font-weight: bold;display: inline-block;line-height: 1.2em;}#sk-container-id-2 div.sk-label-container {text-align: center;}#sk-container-id-2 div.sk-container {/* jupyter's `normalize.less` sets `[hidden] { display: none; }` but bootstrap.min.css set `[hidden] { display: none !important; }` so we also need the `!important` here to be able to override the default hidden behavior on the sphinx rendered scikit-learn.org. See: https://github.com/scikit-learn/scikit-learn/issues/21755 */display: inline-block !important;position: relative;}#sk-container-id-2 div.sk-text-repr-fallback {display: none;}</style><div id=\"sk-container-id-2\" class=\"sk-top-container\"><div class=\"sk-text-repr-fallback\"><pre>StackingClassifier(cv=5,\n",
       "                   estimators=[(&#x27;Random Forest&#x27;,\n",
       "                                RandomForestClassifier(max_depth=20,\n",
       "                                                       n_estimators=200)),\n",
       "                               (&#x27;Gradient Boosting&#x27;,\n",
       "                                GradientBoostingClassifier(n_estimators=200)),\n",
       "                               (&#x27;XGBoost Classifier&#x27;,\n",
       "                                XGBClassifier(base_score=None, booster=None,\n",
       "                                              callbacks=None,\n",
       "                                              colsample_bylevel=None,\n",
       "                                              colsample_bynode=None,\n",
       "                                              colsample_bytree=None,\n",
       "                                              device=None,\n",
       "                                              early_stopping_roun...\n",
       "                                              interaction_constraints=None,\n",
       "                                              learning_rate=0.1, max_bin=None,\n",
       "                                              max_cat_threshold=None,\n",
       "                                              max_cat_to_onehot=None,\n",
       "                                              max_delta_step=None, max_depth=4,\n",
       "                                              max_leaves=None,\n",
       "                                              min_child_weight=None,\n",
       "                                              missing=nan,\n",
       "                                              monotone_constraints=None,\n",
       "                                              multi_strategy=None,\n",
       "                                              n_estimators=100, n_jobs=None,\n",
       "                                              num_parallel_tree=None,\n",
       "                                              random_state=None, ...))],\n",
       "                   final_estimator=LogisticRegression(C=0.1,\n",
       "                                                      solver=&#x27;liblinear&#x27;))</pre><b>In a Jupyter environment, please rerun this cell to show the HTML representation or trust the notebook. <br />On GitHub, the HTML representation is unable to render, please try loading this page with nbviewer.org.</b></div><div class=\"sk-container\" hidden><div class=\"sk-item sk-dashed-wrapped\"><div class=\"sk-label-container\"><div class=\"sk-label sk-toggleable\"><input class=\"sk-toggleable__control sk-hidden--visually\" id=\"sk-estimator-id-2\" type=\"checkbox\" ><label for=\"sk-estimator-id-2\" class=\"sk-toggleable__label sk-toggleable__label-arrow\">StackingClassifier</label><div class=\"sk-toggleable__content\"><pre>StackingClassifier(cv=5,\n",
       "                   estimators=[(&#x27;Random Forest&#x27;,\n",
       "                                RandomForestClassifier(max_depth=20,\n",
       "                                                       n_estimators=200)),\n",
       "                               (&#x27;Gradient Boosting&#x27;,\n",
       "                                GradientBoostingClassifier(n_estimators=200)),\n",
       "                               (&#x27;XGBoost Classifier&#x27;,\n",
       "                                XGBClassifier(base_score=None, booster=None,\n",
       "                                              callbacks=None,\n",
       "                                              colsample_bylevel=None,\n",
       "                                              colsample_bynode=None,\n",
       "                                              colsample_bytree=None,\n",
       "                                              device=None,\n",
       "                                              early_stopping_roun...\n",
       "                                              interaction_constraints=None,\n",
       "                                              learning_rate=0.1, max_bin=None,\n",
       "                                              max_cat_threshold=None,\n",
       "                                              max_cat_to_onehot=None,\n",
       "                                              max_delta_step=None, max_depth=4,\n",
       "                                              max_leaves=None,\n",
       "                                              min_child_weight=None,\n",
       "                                              missing=nan,\n",
       "                                              monotone_constraints=None,\n",
       "                                              multi_strategy=None,\n",
       "                                              n_estimators=100, n_jobs=None,\n",
       "                                              num_parallel_tree=None,\n",
       "                                              random_state=None, ...))],\n",
       "                   final_estimator=LogisticRegression(C=0.1,\n",
       "                                                      solver=&#x27;liblinear&#x27;))</pre></div></div></div><div class=\"sk-serial\"><div class=\"sk-item\"><div class=\"sk-parallel\"><div class=\"sk-parallel-item\"><div class=\"sk-item\"><div class=\"sk-label-container\"><div class=\"sk-label sk-toggleable\"><label>Random Forest</label></div></div><div class=\"sk-serial\"><div class=\"sk-item\"><div class=\"sk-estimator sk-toggleable\"><input class=\"sk-toggleable__control sk-hidden--visually\" id=\"sk-estimator-id-3\" type=\"checkbox\" ><label for=\"sk-estimator-id-3\" class=\"sk-toggleable__label sk-toggleable__label-arrow\">RandomForestClassifier</label><div class=\"sk-toggleable__content\"><pre>RandomForestClassifier(max_depth=20, n_estimators=200)</pre></div></div></div></div></div></div><div class=\"sk-parallel-item\"><div class=\"sk-item\"><div class=\"sk-label-container\"><div class=\"sk-label sk-toggleable\"><label>Gradient Boosting</label></div></div><div class=\"sk-serial\"><div class=\"sk-item\"><div class=\"sk-estimator sk-toggleable\"><input class=\"sk-toggleable__control sk-hidden--visually\" id=\"sk-estimator-id-4\" type=\"checkbox\" ><label for=\"sk-estimator-id-4\" class=\"sk-toggleable__label sk-toggleable__label-arrow\">GradientBoostingClassifier</label><div class=\"sk-toggleable__content\"><pre>GradientBoostingClassifier(n_estimators=200)</pre></div></div></div></div></div></div><div class=\"sk-parallel-item\"><div class=\"sk-item\"><div class=\"sk-label-container\"><div class=\"sk-label sk-toggleable\"><label>XGBoost Classifier</label></div></div><div class=\"sk-serial\"><div class=\"sk-item\"><div class=\"sk-estimator sk-toggleable\"><input class=\"sk-toggleable__control sk-hidden--visually\" id=\"sk-estimator-id-5\" type=\"checkbox\" ><label for=\"sk-estimator-id-5\" class=\"sk-toggleable__label sk-toggleable__label-arrow\">XGBClassifier</label><div class=\"sk-toggleable__content\"><pre>XGBClassifier(base_score=None, booster=None, callbacks=None,\n",
       "              colsample_bylevel=None, colsample_bynode=None,\n",
       "              colsample_bytree=None, device=None, early_stopping_rounds=None,\n",
       "              enable_categorical=False, eval_metric=None, feature_types=None,\n",
       "              gamma=None, grow_policy=None, importance_type=None,\n",
       "              interaction_constraints=None, learning_rate=0.1, max_bin=None,\n",
       "              max_cat_threshold=None, max_cat_to_onehot=None,\n",
       "              max_delta_step=None, max_depth=4, max_leaves=None,\n",
       "              min_child_weight=None, missing=nan, monotone_constraints=None,\n",
       "              multi_strategy=None, n_estimators=100, n_jobs=None,\n",
       "              num_parallel_tree=None, random_state=None, ...)</pre></div></div></div></div></div></div></div></div><div class=\"sk-item\"><div class=\"sk-parallel\"><div class=\"sk-parallel-item\"><div class=\"sk-item\"><div class=\"sk-label-container\"><div class=\"sk-label sk-toggleable\"><label>final_estimator</label></div></div><div class=\"sk-serial\"><div class=\"sk-item\"><div class=\"sk-estimator sk-toggleable\"><input class=\"sk-toggleable__control sk-hidden--visually\" id=\"sk-estimator-id-6\" type=\"checkbox\" ><label for=\"sk-estimator-id-6\" class=\"sk-toggleable__label sk-toggleable__label-arrow\">LogisticRegression</label><div class=\"sk-toggleable__content\"><pre>LogisticRegression(C=0.1, solver=&#x27;liblinear&#x27;)</pre></div></div></div></div></div></div></div></div></div></div></div></div>"
      ],
      "text/plain": [
       "StackingClassifier(cv=5,\n",
       "                   estimators=[('Random Forest',\n",
       "                                RandomForestClassifier(max_depth=20,\n",
       "                                                       n_estimators=200)),\n",
       "                               ('Gradient Boosting',\n",
       "                                GradientBoostingClassifier(n_estimators=200)),\n",
       "                               ('XGBoost Classifier',\n",
       "                                XGBClassifier(base_score=None, booster=None,\n",
       "                                              callbacks=None,\n",
       "                                              colsample_bylevel=None,\n",
       "                                              colsample_bynode=None,\n",
       "                                              colsample_bytree=None,\n",
       "                                              device=None,\n",
       "                                              early_stopping_roun...\n",
       "                                              interaction_constraints=None,\n",
       "                                              learning_rate=0.1, max_bin=None,\n",
       "                                              max_cat_threshold=None,\n",
       "                                              max_cat_to_onehot=None,\n",
       "                                              max_delta_step=None, max_depth=4,\n",
       "                                              max_leaves=None,\n",
       "                                              min_child_weight=None,\n",
       "                                              missing=nan,\n",
       "                                              monotone_constraints=None,\n",
       "                                              multi_strategy=None,\n",
       "                                              n_estimators=100, n_jobs=None,\n",
       "                                              num_parallel_tree=None,\n",
       "                                              random_state=None, ...))],\n",
       "                   final_estimator=LogisticRegression(C=0.1,\n",
       "                                                      solver='liblinear'))"
      ]
     },
     "execution_count": 31,
     "metadata": {},
     "output_type": "execute_result"
    }
   ],
   "source": [
    "# create first level (base) classifier\n",
    "level0 = list()\n",
    "level0.append(('Random Forest', RandomForestClassifier(max_depth=20, n_estimators=200)))\n",
    "level0.append(('Gradient Boosting', GradientBoostingClassifier(n_estimators=200)))\n",
    "level0.append(('XGBoost Classifier', XGBClassifier(n_estimators=100, learning_rate=0.1, max_depth=4)))\n",
    "\n",
    "# create second level classifier\n",
    "level1 = LogisticRegression(C=0.1, solver='liblinear')\n",
    "\n",
    "# apply the stacked classifier based on the first and second level of classifier.\n",
    "stack_model = StackingClassifier(estimators=level0, final_estimator=level1, cv=5)\n",
    "stack_model.fit(X_train, y_train)"
   ]
  },
  {
   "cell_type": "markdown",
   "id": "57b0a6eb",
   "metadata": {},
   "source": [
    "## Evaluation"
   ]
  },
  {
   "cell_type": "code",
   "execution_count": 32,
   "id": "7607ba02",
   "metadata": {},
   "outputs": [
    {
     "name": "stdout",
     "output_type": "stream",
     "text": [
      "Test accuracy score: 77.27 %\n"
     ]
    }
   ],
   "source": [
    "score = stack_model.score(X_test, y_test)\n",
    "print(\"Test accuracy score: {0:.2f} %\".format(100 * score))\n",
    "Y_predict = stack_model.predict(X_test)"
   ]
  },
  {
   "cell_type": "code",
   "execution_count": 33,
   "id": "4dcca44e",
   "metadata": {},
   "outputs": [
    {
     "name": "stdout",
     "output_type": "stream",
     "text": [
      "              precision    recall  f1-score   support\n",
      "\n",
      "           0       0.80      0.74      0.77      4840\n",
      "           1       0.75      0.81      0.78      4718\n",
      "\n",
      "    accuracy                           0.77      9558\n",
      "   macro avg       0.77      0.77      0.77      9558\n",
      "weighted avg       0.77      0.77      0.77      9558\n",
      "\n"
     ]
    }
   ],
   "source": [
    "# create a dataframe to store the value for both actual values and predictions.\n",
    "predictions = pd.DataFrame(Y_predict, columns=['predictions'])\n",
    "predictions['actual'] = y_test\n",
    "\n",
    "# show the classification report\n",
    "print(classification_report(predictions['actual'], predictions['predictions']))"
   ]
  },
  {
   "cell_type": "code",
   "execution_count": 34,
   "id": "4ff1f785",
   "metadata": {},
   "outputs": [
    {
     "data": {
      "image/png": "[encoded data removed]",
      "text/plain": [
       "<Figure size 500x500 with 2 Axes>"
      ]
     },
     "metadata": {},
     "output_type": "display_data"
    }
   ],
   "source": [
    "# show the confusion matrix by using the heatmap\n",
    "cm = confusion_matrix(y_test, Y_predict)\n",
    "plt.figure(figsize=(5,5),dpi=100)\n",
    "fig_conf=sns.heatmap(cm, annot=True, fmt='d', cmap='RdBu_r')\n",
    "\n",
    "# create the title\n",
    "plt.title('confusion matrix for prediction')\n",
    "\n",
    "# save the figure\n",
    "# fig_conf.figure.savefig(\"confusion_matrix.png\")\n",
    "plt.show()"
   ]
  },
  {
   "cell_type": "markdown",
   "id": "2eca09d7",
   "metadata": {},
   "source": [
    "## Joblib"
   ]
  },
  {
   "cell_type": "code",
   "execution_count": 39,
   "id": "45bd146f",
   "metadata": {},
   "outputs": [],
   "source": [
    "import joblib\n",
    "# export the model in a pickle file.\n",
    "pkl_filename = \"StackModelJoblib.joblib\"\n",
    "with open(pkl_filename, 'wb') as file:\n",
    "    joblib.dump(stack_model, file)"
   ]
  },
  {
   "cell_type": "code",
   "execution_count": 40,
   "id": "8a613fe6",
   "metadata": {},
   "outputs": [],
   "source": [
    "# import the model in the pickle file\n",
    "with open(\"StackModelJoblib.joblib\", 'rb') as file:\n",
    "    joblib_model = joblib.load(file)"
   ]
  },
  {
   "cell_type": "code",
   "execution_count": 41,
   "id": "41b07a23",
   "metadata": {},
   "outputs": [
    {
     "name": "stdout",
     "output_type": "stream",
     "text": [
      "Test accuracy score: 77.27 %\n"
     ]
    }
   ],
   "source": [
    "# check the accuracy of the test set.\n",
    "score = joblib_model.score(X_test, y_test)\n",
    "print(\"Test accuracy score: {0:.2f} %\".format(100 * score))\n",
    "Y_predict = joblib_model.predict(X_test)"
   ]
  },
  {
   "cell_type": "markdown",
   "id": "042d748b",
   "metadata": {},
   "source": [
    "## Use smaller sample again"
   ]
  },
  {
   "cell_type": "code",
   "execution_count": 12,
   "id": "eda48182",
   "metadata": {},
   "outputs": [],
   "source": [
    "df_small=balanced_df.sample(n=15000, random_state=8649)"
   ]
  },
  {
   "cell_type": "code",
   "execution_count": 20,
   "id": "2a9b595b",
   "metadata": {},
   "outputs": [],
   "source": [
    "x_small= df_small.loc[:,df.columns != \"HeartDiseaseorAttack\"]\n",
    "le = LabelEncoder()\n",
    "y_small= le.fit_transform(df_small['HeartDiseaseorAttack'])\n",
    "X_train_small, X_test_small, y_train_small, y_test_small = train_test_split(x_small,y_small, test_size=0.2, random_state=8649)\n",
    "scaler = StandardScaler()\n",
    "X_train_small = scaler.fit_transform(X_train_small)\n",
    "X_test_small = scaler.transform(X_test_small)"
   ]
  },
  {
   "cell_type": "code",
   "execution_count": 21,
   "id": "56576102",
   "metadata": {},
   "outputs": [],
   "source": [
    "mean = scaler.mean_\n",
    "std_dev = scaler.scale_"
   ]
  },
  {
   "cell_type": "code",
   "execution_count": 24,
   "id": "d96c39f7",
   "metadata": {},
   "outputs": [
    {
     "data": {
      "text/plain": [
       "array([ 0.58133333,  0.55458333,  0.97783333, 28.93708333,  0.51741667,\n",
       "        0.09983333,  0.48058333,  0.70075   ,  0.61558333,  0.78858333,\n",
       "        0.04666667,  0.95683333,  0.09366667,  2.89858333,  3.78408333,\n",
       "        6.52983333,  0.28383333,  0.50258333,  8.99741667,  4.92491667,\n",
       "        5.65941667])"
      ]
     },
     "execution_count": 24,
     "metadata": {},
     "output_type": "execute_result"
    }
   ],
   "source": [
    "mean"
   ]
  },
  {
   "cell_type": "code",
   "execution_count": 25,
   "id": "88e8329f",
   "metadata": {},
   "outputs": [
    {
     "data": {
      "text/plain": [
       "array([ 0.49334054,  0.49701173,  0.14722536,  6.77311781,  0.49969657,\n",
       "        0.29977765,  0.84159947,  0.45792951,  0.48645708,  0.40831319,\n",
       "        0.21092389,  0.20323215,  0.29136441,  1.1577124 ,  8.20278184,\n",
       "       10.62311677,  0.45085693,  0.49999333,  2.89670675,  1.02092074,\n",
       "        2.16992772])"
      ]
     },
     "execution_count": 25,
     "metadata": {},
     "output_type": "execute_result"
    }
   ],
   "source": [
    "std_dev"
   ]
  },
  {
   "cell_type": "code",
   "execution_count": 15,
   "id": "38faf740",
   "metadata": {},
   "outputs": [
    {
     "data": {
      "text/html": [
       "<style>#sk-container-id-1 {color: black;background-color: white;}#sk-container-id-1 pre{padding: 0;}#sk-container-id-1 div.sk-toggleable {background-color: white;}#sk-container-id-1 label.sk-toggleable__label {cursor: pointer;display: block;width: 100%;margin-bottom: 0;padding: 0.3em;box-sizing: border-box;text-align: center;}#sk-container-id-1 label.sk-toggleable__label-arrow:before {content: \"▸\";float: left;margin-right: 0.25em;color: #696969;}#sk-container-id-1 label.sk-toggleable__label-arrow:hover:before {color: black;}#sk-container-id-1 div.sk-estimator:hover label.sk-toggleable__label-arrow:before {color: black;}#sk-container-id-1 div.sk-toggleable__content {max-height: 0;max-width: 0;overflow: hidden;text-align: left;background-color: #f0f8ff;}#sk-container-id-1 div.sk-toggleable__content pre {margin: 0.2em;color: black;border-radius: 0.25em;background-color: #f0f8ff;}#sk-container-id-1 input.sk-toggleable__control:checked~div.sk-toggleable__content {max-height: 200px;max-width: 100%;overflow: auto;}#sk-container-id-1 input.sk-toggleable__control:checked~label.sk-toggleable__label-arrow:before {content: \"▾\";}#sk-container-id-1 div.sk-estimator input.sk-toggleable__control:checked~label.sk-toggleable__label {background-color: #d4ebff;}#sk-container-id-1 div.sk-label input.sk-toggleable__control:checked~label.sk-toggleable__label {background-color: #d4ebff;}#sk-container-id-1 input.sk-hidden--visually {border: 0;clip: rect(1px 1px 1px 1px);clip: rect(1px, 1px, 1px, 1px);height: 1px;margin: -1px;overflow: hidden;padding: 0;position: absolute;width: 1px;}#sk-container-id-1 div.sk-estimator {font-family: monospace;background-color: #f0f8ff;border: 1px dotted black;border-radius: 0.25em;box-sizing: border-box;margin-bottom: 0.5em;}#sk-container-id-1 div.sk-estimator:hover {background-color: #d4ebff;}#sk-container-id-1 div.sk-parallel-item::after {content: \"\";width: 100%;border-bottom: 1px solid gray;flex-grow: 1;}#sk-container-id-1 div.sk-label:hover label.sk-toggleable__label {background-color: #d4ebff;}#sk-container-id-1 div.sk-serial::before {content: \"\";position: absolute;border-left: 1px solid gray;box-sizing: border-box;top: 0;bottom: 0;left: 50%;z-index: 0;}#sk-container-id-1 div.sk-serial {display: flex;flex-direction: column;align-items: center;background-color: white;padding-right: 0.2em;padding-left: 0.2em;position: relative;}#sk-container-id-1 div.sk-item {position: relative;z-index: 1;}#sk-container-id-1 div.sk-parallel {display: flex;align-items: stretch;justify-content: center;background-color: white;position: relative;}#sk-container-id-1 div.sk-item::before, #sk-container-id-1 div.sk-parallel-item::before {content: \"\";position: absolute;border-left: 1px solid gray;box-sizing: border-box;top: 0;bottom: 0;left: 50%;z-index: -1;}#sk-container-id-1 div.sk-parallel-item {display: flex;flex-direction: column;z-index: 1;position: relative;background-color: white;}#sk-container-id-1 div.sk-parallel-item:first-child::after {align-self: flex-end;width: 50%;}#sk-container-id-1 div.sk-parallel-item:last-child::after {align-self: flex-start;width: 50%;}#sk-container-id-1 div.sk-parallel-item:only-child::after {width: 0;}#sk-container-id-1 div.sk-dashed-wrapped {border: 1px dashed gray;margin: 0 0.4em 0.5em 0.4em;box-sizing: border-box;padding-bottom: 0.4em;background-color: white;}#sk-container-id-1 div.sk-label label {font-family: monospace;font-weight: bold;display: inline-block;line-height: 1.2em;}#sk-container-id-1 div.sk-label-container {text-align: center;}#sk-container-id-1 div.sk-container {/* jupyter's `normalize.less` sets `[hidden] { display: none; }` but bootstrap.min.css set `[hidden] { display: none !important; }` so we also need the `!important` here to be able to override the default hidden behavior on the sphinx rendered scikit-learn.org. See: https://github.com/scikit-learn/scikit-learn/issues/21755 */display: inline-block !important;position: relative;}#sk-container-id-1 div.sk-text-repr-fallback {display: none;}</style><div id=\"sk-container-id-1\" class=\"sk-top-container\"><div class=\"sk-text-repr-fallback\"><pre>StackingClassifier(cv=5,\n",
       "                   estimators=[(&#x27;Random Forest&#x27;,\n",
       "                                RandomForestClassifier(max_depth=20,\n",
       "                                                       n_estimators=200)),\n",
       "                               (&#x27;Gradient Boosting&#x27;,\n",
       "                                GradientBoostingClassifier(n_estimators=200)),\n",
       "                               (&#x27;XGBoost Classifier&#x27;,\n",
       "                                XGBClassifier(base_score=None, booster=None,\n",
       "                                              callbacks=None,\n",
       "                                              colsample_bylevel=None,\n",
       "                                              colsample_bynode=None,\n",
       "                                              colsample_bytree=None,\n",
       "                                              device=None,\n",
       "                                              early_stopping_roun...\n",
       "                                              interaction_constraints=None,\n",
       "                                              learning_rate=0.1, max_bin=None,\n",
       "                                              max_cat_threshold=None,\n",
       "                                              max_cat_to_onehot=None,\n",
       "                                              max_delta_step=None, max_depth=4,\n",
       "                                              max_leaves=None,\n",
       "                                              min_child_weight=None,\n",
       "                                              missing=nan,\n",
       "                                              monotone_constraints=None,\n",
       "                                              multi_strategy=None,\n",
       "                                              n_estimators=100, n_jobs=None,\n",
       "                                              num_parallel_tree=None,\n",
       "                                              random_state=None, ...))],\n",
       "                   final_estimator=LogisticRegression(C=0.1,\n",
       "                                                      solver=&#x27;liblinear&#x27;))</pre><b>In a Jupyter environment, please rerun this cell to show the HTML representation or trust the notebook. <br />On GitHub, the HTML representation is unable to render, please try loading this page with nbviewer.org.</b></div><div class=\"sk-container\" hidden><div class=\"sk-item sk-dashed-wrapped\"><div class=\"sk-label-container\"><div class=\"sk-label sk-toggleable\"><input class=\"sk-toggleable__control sk-hidden--visually\" id=\"sk-estimator-id-1\" type=\"checkbox\" ><label for=\"sk-estimator-id-1\" class=\"sk-toggleable__label sk-toggleable__label-arrow\">StackingClassifier</label><div class=\"sk-toggleable__content\"><pre>StackingClassifier(cv=5,\n",
       "                   estimators=[(&#x27;Random Forest&#x27;,\n",
       "                                RandomForestClassifier(max_depth=20,\n",
       "                                                       n_estimators=200)),\n",
       "                               (&#x27;Gradient Boosting&#x27;,\n",
       "                                GradientBoostingClassifier(n_estimators=200)),\n",
       "                               (&#x27;XGBoost Classifier&#x27;,\n",
       "                                XGBClassifier(base_score=None, booster=None,\n",
       "                                              callbacks=None,\n",
       "                                              colsample_bylevel=None,\n",
       "                                              colsample_bynode=None,\n",
       "                                              colsample_bytree=None,\n",
       "                                              device=None,\n",
       "                                              early_stopping_roun...\n",
       "                                              interaction_constraints=None,\n",
       "                                              learning_rate=0.1, max_bin=None,\n",
       "                                              max_cat_threshold=None,\n",
       "                                              max_cat_to_onehot=None,\n",
       "                                              max_delta_step=None, max_depth=4,\n",
       "                                              max_leaves=None,\n",
       "                                              min_child_weight=None,\n",
       "                                              missing=nan,\n",
       "                                              monotone_constraints=None,\n",
       "                                              multi_strategy=None,\n",
       "                                              n_estimators=100, n_jobs=None,\n",
       "                                              num_parallel_tree=None,\n",
       "                                              random_state=None, ...))],\n",
       "                   final_estimator=LogisticRegression(C=0.1,\n",
       "                                                      solver=&#x27;liblinear&#x27;))</pre></div></div></div><div class=\"sk-serial\"><div class=\"sk-item\"><div class=\"sk-parallel\"><div class=\"sk-parallel-item\"><div class=\"sk-item\"><div class=\"sk-label-container\"><div class=\"sk-label sk-toggleable\"><label>Random Forest</label></div></div><div class=\"sk-serial\"><div class=\"sk-item\"><div class=\"sk-estimator sk-toggleable\"><input class=\"sk-toggleable__control sk-hidden--visually\" id=\"sk-estimator-id-2\" type=\"checkbox\" ><label for=\"sk-estimator-id-2\" class=\"sk-toggleable__label sk-toggleable__label-arrow\">RandomForestClassifier</label><div class=\"sk-toggleable__content\"><pre>RandomForestClassifier(max_depth=20, n_estimators=200)</pre></div></div></div></div></div></div><div class=\"sk-parallel-item\"><div class=\"sk-item\"><div class=\"sk-label-container\"><div class=\"sk-label sk-toggleable\"><label>Gradient Boosting</label></div></div><div class=\"sk-serial\"><div class=\"sk-item\"><div class=\"sk-estimator sk-toggleable\"><input class=\"sk-toggleable__control sk-hidden--visually\" id=\"sk-estimator-id-3\" type=\"checkbox\" ><label for=\"sk-estimator-id-3\" class=\"sk-toggleable__label sk-toggleable__label-arrow\">GradientBoostingClassifier</label><div class=\"sk-toggleable__content\"><pre>GradientBoostingClassifier(n_estimators=200)</pre></div></div></div></div></div></div><div class=\"sk-parallel-item\"><div class=\"sk-item\"><div class=\"sk-label-container\"><div class=\"sk-label sk-toggleable\"><label>XGBoost Classifier</label></div></div><div class=\"sk-serial\"><div class=\"sk-item\"><div class=\"sk-estimator sk-toggleable\"><input class=\"sk-toggleable__control sk-hidden--visually\" id=\"sk-estimator-id-4\" type=\"checkbox\" ><label for=\"sk-estimator-id-4\" class=\"sk-toggleable__label sk-toggleable__label-arrow\">XGBClassifier</label><div class=\"sk-toggleable__content\"><pre>XGBClassifier(base_score=None, booster=None, callbacks=None,\n",
       "              colsample_bylevel=None, colsample_bynode=None,\n",
       "              colsample_bytree=None, device=None, early_stopping_rounds=None,\n",
       "              enable_categorical=False, eval_metric=None, feature_types=None,\n",
       "              gamma=None, grow_policy=None, importance_type=None,\n",
       "              interaction_constraints=None, learning_rate=0.1, max_bin=None,\n",
       "              max_cat_threshold=None, max_cat_to_onehot=None,\n",
       "              max_delta_step=None, max_depth=4, max_leaves=None,\n",
       "              min_child_weight=None, missing=nan, monotone_constraints=None,\n",
       "              multi_strategy=None, n_estimators=100, n_jobs=None,\n",
       "              num_parallel_tree=None, random_state=None, ...)</pre></div></div></div></div></div></div></div></div><div class=\"sk-item\"><div class=\"sk-parallel\"><div class=\"sk-parallel-item\"><div class=\"sk-item\"><div class=\"sk-label-container\"><div class=\"sk-label sk-toggleable\"><label>final_estimator</label></div></div><div class=\"sk-serial\"><div class=\"sk-item\"><div class=\"sk-estimator sk-toggleable\"><input class=\"sk-toggleable__control sk-hidden--visually\" id=\"sk-estimator-id-5\" type=\"checkbox\" ><label for=\"sk-estimator-id-5\" class=\"sk-toggleable__label sk-toggleable__label-arrow\">LogisticRegression</label><div class=\"sk-toggleable__content\"><pre>LogisticRegression(C=0.1, solver=&#x27;liblinear&#x27;)</pre></div></div></div></div></div></div></div></div></div></div></div></div>"
      ],
      "text/plain": [
       "StackingClassifier(cv=5,\n",
       "                   estimators=[('Random Forest',\n",
       "                                RandomForestClassifier(max_depth=20,\n",
       "                                                       n_estimators=200)),\n",
       "                               ('Gradient Boosting',\n",
       "                                GradientBoostingClassifier(n_estimators=200)),\n",
       "                               ('XGBoost Classifier',\n",
       "                                XGBClassifier(base_score=None, booster=None,\n",
       "                                              callbacks=None,\n",
       "                                              colsample_bylevel=None,\n",
       "                                              colsample_bynode=None,\n",
       "                                              colsample_bytree=None,\n",
       "                                              device=None,\n",
       "                                              early_stopping_roun...\n",
       "                                              interaction_constraints=None,\n",
       "                                              learning_rate=0.1, max_bin=None,\n",
       "                                              max_cat_threshold=None,\n",
       "                                              max_cat_to_onehot=None,\n",
       "                                              max_delta_step=None, max_depth=4,\n",
       "                                              max_leaves=None,\n",
       "                                              min_child_weight=None,\n",
       "                                              missing=nan,\n",
       "                                              monotone_constraints=None,\n",
       "                                              multi_strategy=None,\n",
       "                                              n_estimators=100, n_jobs=None,\n",
       "                                              num_parallel_tree=None,\n",
       "                                              random_state=None, ...))],\n",
       "                   final_estimator=LogisticRegression(C=0.1,\n",
       "                                                      solver='liblinear'))"
      ]
     },
     "execution_count": 15,
     "metadata": {},
     "output_type": "execute_result"
    }
   ],
   "source": [
    "# create first level (base) classifier\n",
    "level0 = list()\n",
    "level0.append(('Random Forest', RandomForestClassifier(max_depth=20, n_estimators=200)))\n",
    "level0.append(('Gradient Boosting', GradientBoostingClassifier(n_estimators=200)))\n",
    "level0.append(('XGBoost Classifier', XGBClassifier(n_estimators=100, learning_rate=0.1, max_depth=4)))\n",
    "\n",
    "# create second level classifier\n",
    "level1 = LogisticRegression(C=0.1, solver='liblinear')\n",
    "\n",
    "# apply the stacked classifier based on the first and second level of classifier.\n",
    "stack_model = StackingClassifier(estimators=level0, final_estimator=level1, cv=5)\n",
    "stack_model.fit(X_train_small, y_train_small)"
   ]
  },
  {
   "cell_type": "code",
   "execution_count": 17,
   "id": "c90c4e09",
   "metadata": {},
   "outputs": [
    {
     "name": "stdout",
     "output_type": "stream",
     "text": [
      "Test accuracy score: 77.53 %\n"
     ]
    }
   ],
   "source": [
    "score = stack_model.score(X_test_small, y_test_small)\n",
    "print(\"Test accuracy score: {0:.2f} %\".format(100 * score))\n",
    "Y_predict = stack_model.predict(X_test_small)"
   ]
  },
  {
   "cell_type": "code",
   "execution_count": 35,
   "id": "99f5ca0d",
   "metadata": {},
   "outputs": [
    {
     "data": {
      "text/plain": [
       "array([1])"
      ]
     },
     "execution_count": 35,
     "metadata": {},
     "output_type": "execute_result"
    }
   ],
   "source": [
    "stack_model.predict(np.array(standardized_data_point).reshape(1,21))"
   ]
  },
  {
   "cell_type": "code",
   "execution_count": 18,
   "id": "424bbf0c",
   "metadata": {},
   "outputs": [
    {
     "name": "stdout",
     "output_type": "stream",
     "text": [
      "              precision    recall  f1-score   support\n",
      "\n",
      "           0       0.80      0.75      0.78      1561\n",
      "           1       0.75      0.80      0.77      1439\n",
      "\n",
      "    accuracy                           0.78      3000\n",
      "   macro avg       0.78      0.78      0.78      3000\n",
      "weighted avg       0.78      0.78      0.78      3000\n",
      "\n"
     ]
    }
   ],
   "source": [
    "# create a dataframe to store the value for both actual values and predictions.\n",
    "predictions = pd.DataFrame(Y_predict, columns=['predictions'])\n",
    "predictions['actual'] = y_test_small\n",
    "\n",
    "# show the classification report\n",
    "print(classification_report(predictions['actual'], predictions['predictions']))"
   ]
  },
  {
   "cell_type": "code",
   "execution_count": 19,
   "id": "1c2b97fa",
   "metadata": {},
   "outputs": [
    {
     "data": {
      "image/png": "[encoded data removed]",
      "text/plain": [
       "<Figure size 500x500 with 2 Axes>"
      ]
     },
     "metadata": {},
     "output_type": "display_data"
    }
   ],
   "source": [
    "# show the confusion matrix by using the heatmap\n",
    "cm = confusion_matrix(y_test_small, Y_predict)\n",
    "plt.figure(figsize=(5,5),dpi=100)\n",
    "fig_conf=sns.heatmap(cm, annot=True, fmt='d', cmap='RdBu_r')\n",
    "\n",
    "# create the title\n",
    "plt.title('confusion matrix for prediction')\n",
    "\n",
    "# save the figure\n",
    "# fig_conf.figure.savefig(\"confusion_matrix.png\")\n",
    "plt.show()"
   ]
  },
  {
   "cell_type": "code",
   "execution_count": 51,
   "id": "8edef3b0",
   "metadata": {},
   "outputs": [],
   "source": [
    "import joblib\n",
    "# export the model in a pickle file.\n",
    "pkl_filename = \"SmallStackModelJoblib.joblib\"\n",
    "with open(pkl_filename, 'wb') as file:\n",
    "    joblib.dump(stack_model, file)"
   ]
  },
  {
   "cell_type": "code",
   "execution_count": 52,
   "id": "5d0d3999",
   "metadata": {},
   "outputs": [],
   "source": [
    "# import the model in the pickle file\n",
    "with open(\"SmallStackModelJoblib.joblib\", 'rb') as file:\n",
    "    joblib_model = joblib.load(file)"
   ]
  },
  {
   "cell_type": "code",
   "execution_count": 53,
   "id": "40d032da",
   "metadata": {},
   "outputs": [
    {
     "name": "stdout",
     "output_type": "stream",
     "text": [
      "Test accuracy score: 82.75 %\n"
     ]
    }
   ],
   "source": [
    "# check the accuracy of the test set.\n",
    "score = joblib_model.score(X_test, y_test)\n",
    "print(\"Test accuracy score: {0:.2f} %\".format(100 * score))\n",
    "Y_predict = joblib_model.predict(X_test)"
   ]
  },
  {
   "cell_type": "code",
   "execution_count": null,
   "id": "ed9c0217",
   "metadata": {},
   "outputs": [],
   "source": []
  }
 ],
 "metadata": {
  "kernelspec": {
   "display_name": "Python 3 (ipykernel)",
   "language": "python",
   "name": "python3"
  },
  "language_info": {
   "codemirror_mode": {
    "name": "ipython",
    "version": 3
   },
   "file_extension": ".py",
   "mimetype": "text/x-python",
   "name": "python",
   "nbconvert_exporter": "python",
   "pygments_lexer": "ipython3",
   "version": "3.11.5"
  }
 },
 "nbformat": 4,
 "nbformat_minor": 5
}
